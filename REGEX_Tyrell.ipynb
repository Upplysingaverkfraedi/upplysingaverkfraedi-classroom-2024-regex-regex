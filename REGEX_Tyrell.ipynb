{
 "cells": [
  {
   "cell_type": "markdown",
   "metadata": {},
   "source": [
    "## 3. Endurraða skrá:\n",
    "\n",
    "Notið reglulega segð til að endurraða línum úr CSV-skrá með nafni, heimilisfangi og símanúmeri.\n",
    "Umbreytið gögnunum í sniði: heimilisfang, símanúmer og nafn. Skiptið , út fyrir \\t nema á eftir kenninafni.\n",
    "Vistaðu úttakið í TSV-skrá með Python kóða."
   ]
  },
  {
   "cell_type": "code",
   "execution_count": 25,
   "metadata": {},
   "outputs": [
    {
     "name": "stdout",
     "output_type": "stream",
     "text": [
      "Gögnin hafa verið vistuð í data/heimilisfang_simanumer_nafn.tsv\n"
     ]
    }
   ],
   "source": [
    "import re\n",
    "\n",
    "def CSV_TSV(CSV_skra, TSV_skra):\n",
    "    \"\"\"\n",
    "    Les CSV skrá og umbreytir \n",
    "\n",
    "    :param CSV_skra: Slóð að CSV skránni\n",
    "    :param TSV_skra: Slóð að TSV skránni\n",
    "\n",
    "    \"\"\"\n",
    "    # Lesum CSV skrá\n",
    "    with open(CSV_skra, 'r', encoding='utf-8') as f:\n",
    "        gogn = f.readlines()\n",
    "\n",
    "    gogn_endurrodud = []\n",
    "\n",
    "    for line in gogn:\n",
    "        # Fjarlægjum bil á eftir kommu\n",
    "        line = line.replace(', ', ',')\n",
    "    \n",
    "        # notum regex til að flokka gögnin í nafn, heimilisfang og símanúmer\n",
    "        match = re.match(r'([^,]+)\\s([^,]+)(?:\\s([^,]+))?,\\s*([^,]+),\\s*([^,]+),\\s*(\\d+-\\d+)', line)\n",
    "\n",
    "        if match:\n",
    "            eiginnafn = match.group(1)\n",
    "            millinafn = match.group(2) if match.group(3) else ''\n",
    "            kenninafn = match.group(3) if match.group(3) else match.group(2)\n",
    "            heimilisfang = match.group(4)\n",
    "            postnumer = match.group(5)\n",
    "            simanumer = match.group(6)\n",
    "        \n",
    "        if millinafn:\n",
    "            nafn = f'{kenninafn}, {millinafn} {eiginnafn}'\n",
    "        else:\n",
    "            nafn = f'{kenninafn}, {eiginnafn}'\n",
    "\n",
    "        # Röðum gögnunum í TSV skrá\n",
    "        gogn_endurrodud.append(f'{heimilisfang}\\t{postnumer}\\t{simanumer}\\t{nafn}')\n",
    "\n",
    "\n",
    "    # Röðum gögnunum í TSV skrá\n",
    "    with open(TSV_skra, 'w', encoding='utf-8') as f:\n",
    "        f.write('\\n'.join(gogn_endurrodud))\n",
    "    \n",
    "    print(f'Gögnin hafa verið vistuð í {TSV_skra}')\n",
    "\n",
    "# keyrum fallið\n",
    "CSV_skra = 'data/nafn_heimilisfang_simanumer.csv'\n",
    "TSV_skra = 'data/heimilisfang_simanumer_nafn.tsv'\n",
    "\n",
    "CSV_TSV(CSV_skra, TSV_skra)\n",
    "\n"
   ]
  },
  {
   "cell_type": "markdown",
   "metadata": {},
   "source": [
    "## Útskýring á reglulegu segðunum:\n",
    "\n",
    "r'([^,]+)\\s([^,]+)(?:\\s([^,]+))?,\\s*([^,]+),\\s*([^,]+),\\s*(\\d+-\\d+)'\n",
    "\n",
    "1) ([^,]+) - Þetta er eiginnafn, og tekur inn allt nema kommu. Samsvarar match.group(1)\n",
    "2) \\s er bilið sem kemur á eftir eiginnafninu\n",
    "3) ([^,]+) - Þetta er millinafn eða kenninafn. Samsvarar match.group(2)\n",
    "4) (?:\\s([^,]+))?: - \"?\" merkir að þetta er valfrjálst, en ef það eru þrjú nöfn þá verður þetta kenninafn. Þetta samsvarar match.group(3) \n",
    "5) , - hérna finnst komma og eftir hana finnst heimilisfangið.\n",
    "6) \\s* - engin eða fleiri bil\n",
    "7) ([^,]+) - þetta er heimilisfangið og match.group(4)\n",
    "8) , - komma sem aðskilur heimilisfang frá póstnúmeri\n",
    "9) \\s*([^,]+) - þetta er póstnúmerið og match.group(5).\n",
    "10) , - komma sem aðskilur póstnúmer og símanúmer.\n",
    "11) (\\d+-\\d+) - ein eða fleiri tala, svo bandstrik, svo ein eða fleiri tala. þetta samsvarar match.group(6)"
   ]
  }
 ],
 "metadata": {
  "kernelspec": {
   "display_name": "Python 3",
   "language": "python",
   "name": "python3"
  },
  "language_info": {
   "codemirror_mode": {
    "name": "ipython",
    "version": 3
   },
   "file_extension": ".py",
   "mimetype": "text/x-python",
   "name": "python",
   "nbconvert_exporter": "python",
   "pygments_lexer": "ipython3",
   "version": "3.12.2"
  }
 },
 "nbformat": 4,
 "nbformat_minor": 2
}
